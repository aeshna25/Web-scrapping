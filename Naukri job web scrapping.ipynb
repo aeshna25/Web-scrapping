{
 "cells": [
  {
   "cell_type": "code",
   "execution_count": 1,
   "metadata": {},
   "outputs": [],
   "source": [
    "from selenium import webdriver\n",
    "from webdriver_manager.chrome import ChromeDriverManager\n",
    "from bs4 import BeautifulSoup\n",
    "import time\n",
    "import pandas as pd"
   ]
  },
  {
   "cell_type": "code",
   "execution_count": 3,
   "metadata": {},
   "outputs": [
    {
     "data": {
      "text/html": [
       "<div>\n",
       "<style scoped>\n",
       "    .dataframe tbody tr th:only-of-type {\n",
       "        vertical-align: middle;\n",
       "    }\n",
       "\n",
       "    .dataframe tbody tr th {\n",
       "        vertical-align: top;\n",
       "    }\n",
       "\n",
       "    .dataframe thead th {\n",
       "        text-align: right;\n",
       "    }\n",
       "</style>\n",
       "<table border=\"1\" class=\"dataframe\">\n",
       "  <thead>\n",
       "    <tr style=\"text-align: right;\">\n",
       "      <th></th>\n",
       "      <th>type</th>\n",
       "      <th>link</th>\n",
       "    </tr>\n",
       "  </thead>\n",
       "  <tbody>\n",
       "    <tr>\n",
       "      <th>0</th>\n",
       "      <td>Accounting Jobs</td>\n",
       "      <td>https://www.naukri.com/accounting-jobs?xt=cats...</td>\n",
       "    </tr>\n",
       "    <tr>\n",
       "      <th>1</th>\n",
       "      <td>Interior Design Jobs</td>\n",
       "      <td>https://www.naukri.com/interior-design-jobs?xt...</td>\n",
       "    </tr>\n",
       "    <tr>\n",
       "      <th>2</th>\n",
       "      <td>Bank Jobs</td>\n",
       "      <td>https://www.naukri.com/bank-jobs?xt=catsrch&amp;qf...</td>\n",
       "    </tr>\n",
       "    <tr>\n",
       "      <th>3</th>\n",
       "      <td>Content Writing Jobs</td>\n",
       "      <td>https://www.naukri.com/content-writing-jobs?xt...</td>\n",
       "    </tr>\n",
       "    <tr>\n",
       "      <th>4</th>\n",
       "      <td>Consultant Jobs</td>\n",
       "      <td>https://www.naukri.com/consultant-jobs?xt=cats...</td>\n",
       "    </tr>\n",
       "  </tbody>\n",
       "</table>\n",
       "</div>"
      ],
      "text/plain": [
       "                   type                                               link\n",
       "0       Accounting Jobs  https://www.naukri.com/accounting-jobs?xt=cats...\n",
       "1  Interior Design Jobs  https://www.naukri.com/interior-design-jobs?xt...\n",
       "2             Bank Jobs  https://www.naukri.com/bank-jobs?xt=catsrch&qf...\n",
       "3  Content Writing Jobs  https://www.naukri.com/content-writing-jobs?xt...\n",
       "4       Consultant Jobs  https://www.naukri.com/consultant-jobs?xt=cats..."
      ]
     },
     "execution_count": 3,
     "metadata": {},
     "output_type": "execute_result"
    }
   ],
   "source": [
    "joblinks= pd.read_csv(r'C:\\Users\\aeshna_gupta\\OneDrive - Dell Technologies\\DGA\\Udemy courses\\Web scrapping\\link_by_areas.csv')\n",
    "joblinks.head()"
   ]
  },
  {
   "cell_type": "markdown",
   "metadata": {},
   "source": [
    "Convert url to list"
   ]
  },
  {
   "cell_type": "code",
   "execution_count": null,
   "metadata": {},
   "outputs": [],
   "source": [
    "urls= joblinks['link'].tolist()"
   ]
  },
  {
   "cell_type": "markdown",
   "metadata": {},
   "source": [
    "segment the parts of url"
   ]
  },
  {
   "cell_type": "code",
   "execution_count": 7,
   "metadata": {},
   "outputs": [
    {
     "name": "stdout",
     "output_type": "stream",
     "text": [
      "Defaulting to user installation because normal site-packages is not writeable\n",
      "Collecting yarl\n",
      "  Downloading yarl-1.8.1-cp310-cp310-win_amd64.whl (55 kB)\n",
      "     -------------------------------------- 55.9/55.9 KB 415.4 kB/s eta 0:00:00\n",
      "Collecting multidict>=4.0\n",
      "  Downloading multidict-6.0.2-cp310-cp310-win_amd64.whl (27 kB)\n",
      "Requirement already satisfied: idna>=2.0 in c:\\users\\aeshna_gupta\\appdata\\roaming\\python\\python310\\site-packages (from yarl) (3.4)\n",
      "Installing collected packages: multidict, yarl\n",
      "Successfully installed multidict-6.0.2 yarl-1.8.1\n"
     ]
    },
    {
     "name": "stderr",
     "output_type": "stream",
     "text": [
      "WARNING: You are using pip version 22.0.4; however, version 22.3 is available.\n",
      "You should consider upgrading via the 'C:\\Program Files\\Python310\\python.exe -m pip install --upgrade pip' command.\n"
     ]
    }
   ],
   "source": [
    "! pip install yarl"
   ]
  },
  {
   "cell_type": "code",
   "execution_count": 8,
   "metadata": {},
   "outputs": [],
   "source": [
    "import yarl\n",
    "from yarl import URL\n",
    "\n",
    "n=[]\n",
    "\n",
    "for i in urls:\n",
    "    n.append(URL(i).path) # get name of jobs from url\n"
   ]
  },
  {
   "cell_type": "code",
   "execution_count": 10,
   "metadata": {},
   "outputs": [],
   "source": [
    "m = []\n",
    "\n",
    "for i in urls:\n",
    "    m.append(URL(i).query_string) # the last part of the url 'xt=catsrch&qf[]=1'"
   ]
  },
  {
   "cell_type": "code",
   "execution_count": 12,
   "metadata": {},
   "outputs": [],
   "source": [
    "# concat all parts together\n",
    "gen_url=[]\n",
    "\n",
    "for i in range(len(n)):\n",
    "    url = 'https://www.naukri.com' + n[i] + '-{}?' + m[i]  # need placeholder for page number \n",
    "    gen_url.append(url)\n",
    "    "
   ]
  },
  {
   "cell_type": "code",
   "execution_count": 14,
   "metadata": {},
   "outputs": [
    {
     "data": {
      "text/plain": [
       "'https://www.naukri.com/accounting-jobs-{}?xt=catsrch&qf[]=1'"
      ]
     },
     "execution_count": 14,
     "metadata": {},
     "output_type": "execute_result"
    }
   ],
   "source": [
    "gen_url[0]"
   ]
  },
  {
   "cell_type": "markdown",
   "metadata": {},
   "source": [
    "Scraping"
   ]
  },
  {
   "cell_type": "code",
   "execution_count": 56,
   "metadata": {},
   "outputs": [],
   "source": [
    "df = pd.DataFrame(columns=['Job_Title','Company','Scraping_Date','Salary','Location','Tags_Associated','Posting_Date'])"
   ]
  },
  {
   "cell_type": "code",
   "execution_count": 57,
   "metadata": {},
   "outputs": [],
   "source": [
    "# ! pip install html5lib"
   ]
  },
  {
   "cell_type": "code",
   "execution_count": null,
   "metadata": {},
   "outputs": [],
   "source": [
    "for page in range(1,2):\n",
    "    for urll in gen_url[0:5]:\n",
    "        url = urll.format(page)\n",
    "        \n",
    "        driver = webdriver.Chrome(ChromeDriverManager().install())\n",
    "        driver.get(url)\n",
    "        time.sleep(5)\n",
    "\n",
    "        soup = BeautifulSoup(driver.page_source,\"html.parser\") # to extract information from page\n",
    "        driver.close()\n",
    "\n",
    "        # print(soup.prettify())\n",
    "        results = soup.find(class_='list')\n",
    "        job_elems = results.find_all('article',class_='jobTuple bgWhite br4 mb-8')\n",
    "\n",
    "        for job_elem in job_elems:\n",
    "            Job_titles = job_elem.find('a',class_='title fw500 ellipsis')\n",
    "            print(Job_titles.text)\n",
    "\n",
    "        # Company\n",
    "            Company = job_elem.find('a',class_='subTitle ellipsis fleft')\n",
    "            print(Company.text)\n",
    "        # Date Scraped\n",
    "            from datetime import date\n",
    "            today = date.today()\n",
    "                    # dd/mm/YY\n",
    "            date_today = today.strftime(\"%d/%m/%Y\")\n",
    "            print(date_today)          # Date when we are scraping \n",
    "        # Salary\n",
    "            Sal = job_elem.find('li',class_='fleft grey-text br2 placeHolderLi salary')\n",
    "            Sal_span = Sal.find('span',class_='ellipsis fleft fs12 lh16')\n",
    "            if Sal_span is None:\n",
    "                continue\n",
    "            else:\n",
    "                Salary = Sal_span.text\n",
    "                print(Salary)\n",
    "\n",
    "            \n",
    "        # Location for the job post\n",
    "            Loc = job_elem.find('li',class_='fleft grey-text br2 placeHolderLi location')\n",
    "            Loc_exp = Loc.find('span',class_='ellipsis fleft fs12 lh16 locWdth')\n",
    "            if Loc_exp is None:\n",
    "                continue\n",
    "            else:\n",
    "                Location = Loc_exp.text\n",
    "                print(Location)\n",
    "         #tags\n",
    "     \n",
    "            tags = job_elem.find('li',class_='fleft fs12 grey-text lh16 dot')\n",
    "\n",
    "            if tags is None:\n",
    "                continue\n",
    "            else:\n",
    "                assoc_tags = tags.text\n",
    "                print(assoc_tags)\n",
    "\n",
    "            # Date job Posted\n",
    "            date = job_elem.find(\"div\",[\"type br2 fleft grey\",\"type br2 fleft green\"])\n",
    "            date_posted = date.find('span',class_='fleft fw500')\n",
    "            if date_posted is None:\n",
    "                continue\n",
    "            else:\n",
    "                Posting_Date = date_posted.text\n",
    "                print(Posting_Date)\n",
    "\n",
    "           \n",
    "           \n",
    "           \n",
    "            df=df.append({'Job_Title':Job_titles.text,'Company':Company.text,'Scraping_Date':date_today, 'Salary':Salary,'Location':Location,'Tags_Associated':assoc_tags,'Posting_Date':Posting_Date},ignore_index = True)\n",
    "                  \n",
    "        "
   ]
  },
  {
   "cell_type": "code",
   "execution_count": 59,
   "metadata": {},
   "outputs": [
    {
     "data": {
      "text/html": [
       "<div>\n",
       "<style scoped>\n",
       "    .dataframe tbody tr th:only-of-type {\n",
       "        vertical-align: middle;\n",
       "    }\n",
       "\n",
       "    .dataframe tbody tr th {\n",
       "        vertical-align: top;\n",
       "    }\n",
       "\n",
       "    .dataframe thead th {\n",
       "        text-align: right;\n",
       "    }\n",
       "</style>\n",
       "<table border=\"1\" class=\"dataframe\">\n",
       "  <thead>\n",
       "    <tr style=\"text-align: right;\">\n",
       "      <th></th>\n",
       "      <th>Job_Title</th>\n",
       "      <th>Company</th>\n",
       "      <th>Scraping_Date</th>\n",
       "      <th>Salary</th>\n",
       "      <th>Location</th>\n",
       "      <th>Tags_Associated</th>\n",
       "      <th>Posting_Date</th>\n",
       "    </tr>\n",
       "  </thead>\n",
       "  <tbody>\n",
       "    <tr>\n",
       "      <th>0</th>\n",
       "      <td>Associate/ Senior Associate  in UK Accounts/ T...</td>\n",
       "      <td>Anderson Business Solutions</td>\n",
       "      <td>04/11/2022</td>\n",
       "      <td>2,25,000 - 4,50,000 PA.</td>\n",
       "      <td>Thane, Navi Mumbai, Mumbai (All Areas)(Ghodbun...</td>\n",
       "      <td>Accounting</td>\n",
       "      <td>4 Days Ago</td>\n",
       "    </tr>\n",
       "    <tr>\n",
       "      <th>1</th>\n",
       "      <td>HCL || Chartered Accountant-FP&amp;A</td>\n",
       "      <td>HCLTech</td>\n",
       "      <td>04/11/2022</td>\n",
       "      <td>7,00,000 - 10,00,000 PA.</td>\n",
       "      <td>Noida, Delhi / NCR</td>\n",
       "      <td>forecasting</td>\n",
       "      <td>Just Now</td>\n",
       "    </tr>\n",
       "    <tr>\n",
       "      <th>2</th>\n",
       "      <td>HLCL || Chartered Accountant-Controllership</td>\n",
       "      <td>HCLTech</td>\n",
       "      <td>04/11/2022</td>\n",
       "      <td>7,00,000 - 10,00,000 PA.</td>\n",
       "      <td>Noida, Delhi / NCR</td>\n",
       "      <td>qualified chartered accountant</td>\n",
       "      <td>Just Now</td>\n",
       "    </tr>\n",
       "    <tr>\n",
       "      <th>3</th>\n",
       "      <td>B.Com (Full Time) Fresher from Delhi Universit...</td>\n",
       "      <td>Shahi</td>\n",
       "      <td>04/11/2022</td>\n",
       "      <td>3,00,000 - 4,75,000 PA.</td>\n",
       "      <td>Faridabad</td>\n",
       "      <td>bcom</td>\n",
       "      <td>4 Days Ago</td>\n",
       "    </tr>\n",
       "    <tr>\n",
       "      <th>4</th>\n",
       "      <td>Accounts executive-MBA Fresher</td>\n",
       "      <td>Shahi</td>\n",
       "      <td>04/11/2022</td>\n",
       "      <td>Not disclosed</td>\n",
       "      <td>Faridabad</td>\n",
       "      <td>Finance</td>\n",
       "      <td>4 Days Ago</td>\n",
       "    </tr>\n",
       "  </tbody>\n",
       "</table>\n",
       "</div>"
      ],
      "text/plain": [
       "                                           Job_Title  \\\n",
       "0  Associate/ Senior Associate  in UK Accounts/ T...   \n",
       "1                   HCL || Chartered Accountant-FP&A   \n",
       "2        HLCL || Chartered Accountant-Controllership   \n",
       "3  B.Com (Full Time) Fresher from Delhi Universit...   \n",
       "4                     Accounts executive-MBA Fresher   \n",
       "\n",
       "                       Company Scraping_Date                    Salary  \\\n",
       "0  Anderson Business Solutions    04/11/2022   2,25,000 - 4,50,000 PA.   \n",
       "1                      HCLTech    04/11/2022  7,00,000 - 10,00,000 PA.   \n",
       "2                      HCLTech    04/11/2022  7,00,000 - 10,00,000 PA.   \n",
       "3                        Shahi    04/11/2022   3,00,000 - 4,75,000 PA.   \n",
       "4                        Shahi    04/11/2022             Not disclosed   \n",
       "\n",
       "                                            Location  \\\n",
       "0  Thane, Navi Mumbai, Mumbai (All Areas)(Ghodbun...   \n",
       "1                                 Noida, Delhi / NCR   \n",
       "2                                 Noida, Delhi / NCR   \n",
       "3                                          Faridabad   \n",
       "4                                          Faridabad   \n",
       "\n",
       "                  Tags_Associated Posting_Date  \n",
       "0                      Accounting   4 Days Ago  \n",
       "1                     forecasting     Just Now  \n",
       "2  qualified chartered accountant     Just Now  \n",
       "3                            bcom   4 Days Ago  \n",
       "4                         Finance   4 Days Ago  "
      ]
     },
     "execution_count": 59,
     "metadata": {},
     "output_type": "execute_result"
    }
   ],
   "source": [
    "df.head()"
   ]
  },
  {
   "cell_type": "code",
   "execution_count": 60,
   "metadata": {},
   "outputs": [
    {
     "data": {
      "text/plain": [
       "(86, 7)"
      ]
     },
     "execution_count": 60,
     "metadata": {},
     "output_type": "execute_result"
    }
   ],
   "source": [
    "df.shape"
   ]
  },
  {
   "cell_type": "markdown",
   "metadata": {},
   "source": [
    "We have successfully rendered Job details from the first 5 pages of Naukri site."
   ]
  },
  {
   "cell_type": "code",
   "execution_count": null,
   "metadata": {},
   "outputs": [],
   "source": []
  }
 ],
 "metadata": {
  "kernelspec": {
   "display_name": "Python 3.10.5 64-bit",
   "language": "python",
   "name": "python3"
  },
  "language_info": {
   "codemirror_mode": {
    "name": "ipython",
    "version": 3
   },
   "file_extension": ".py",
   "mimetype": "text/x-python",
   "name": "python",
   "nbconvert_exporter": "python",
   "pygments_lexer": "ipython3",
   "version": "3.10.5"
  },
  "orig_nbformat": 4,
  "vscode": {
   "interpreter": {
    "hash": "26de051ba29f2982a8de78e945f0abaf191376122a1563185a90213a26c5da77"
   }
  }
 },
 "nbformat": 4,
 "nbformat_minor": 2
}
