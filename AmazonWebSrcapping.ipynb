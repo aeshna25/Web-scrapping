{
 "cells": [
  {
   "cell_type": "code",
   "execution_count": 1,
   "metadata": {},
   "outputs": [
    {
     "name": "stdout",
     "output_type": "stream",
     "text": [
      "Defaulting to user installation because normal site-packages is not writeable\n",
      "Requirement already satisfied: selenium in c:\\users\\aeshna_gupta\\appdata\\roaming\\python\\python310\\site-packages (3.141.0)\n",
      "Requirement already satisfied: urllib3 in c:\\users\\aeshna_gupta\\appdata\\roaming\\python\\python310\\site-packages (from selenium) (1.26.12)\n"
     ]
    },
    {
     "name": "stderr",
     "output_type": "stream",
     "text": [
      "WARNING: You are using pip version 22.0.4; however, version 22.3 is available.\n",
      "You should consider upgrading via the 'C:\\Program Files\\Python310\\python.exe -m pip install --upgrade pip' command.\n"
     ]
    },
    {
     "name": "stdout",
     "output_type": "stream",
     "text": [
      "Defaulting to user installation because normal site-packages is not writeable\n",
      "Requirement already satisfied: msedge-selenium-tools in c:\\users\\aeshna_gupta\\appdata\\roaming\\python\\python310\\site-packages (3.141.4)\n",
      "Requirement already satisfied: selenium==3.141 in c:\\users\\aeshna_gupta\\appdata\\roaming\\python\\python310\\site-packages (from msedge-selenium-tools) (3.141.0)\n",
      "Requirement already satisfied: urllib3 in c:\\users\\aeshna_gupta\\appdata\\roaming\\python\\python310\\site-packages (from selenium==3.141->msedge-selenium-tools) (1.26.12)\n"
     ]
    },
    {
     "name": "stderr",
     "output_type": "stream",
     "text": [
      "WARNING: You are using pip version 22.0.4; however, version 22.3 is available.\n",
      "You should consider upgrading via the 'C:\\Program Files\\Python310\\python.exe -m pip install --upgrade pip' command.\n"
     ]
    },
    {
     "name": "stdout",
     "output_type": "stream",
     "text": [
      "Defaulting to user installation because normal site-packages is not writeable\n",
      "Requirement already satisfied: bs4 in c:\\users\\aeshna_gupta\\appdata\\roaming\\python\\python310\\site-packages (0.0.1)\n",
      "Requirement already satisfied: beautifulsoup4 in c:\\users\\aeshna_gupta\\appdata\\roaming\\python\\python310\\site-packages (from bs4) (4.11.1)\n",
      "Requirement already satisfied: soupsieve>1.2 in c:\\users\\aeshna_gupta\\appdata\\roaming\\python\\python310\\site-packages (from beautifulsoup4->bs4) (2.3.2.post1)\n"
     ]
    },
    {
     "name": "stderr",
     "output_type": "stream",
     "text": [
      "WARNING: You are using pip version 22.0.4; however, version 22.3 is available.\n",
      "You should consider upgrading via the 'C:\\Program Files\\Python310\\python.exe -m pip install --upgrade pip' command.\n"
     ]
    }
   ],
   "source": [
    "! pip install selenium\n",
    "! pip install msedge-selenium-tools\n",
    "! pip install bs4"
   ]
  },
  {
   "cell_type": "code",
   "execution_count": 2,
   "metadata": {},
   "outputs": [
    {
     "name": "stdout",
     "output_type": "stream",
     "text": [
      "Defaulting to user installation because normal site-packages is not writeable\n",
      "Requirement already satisfied: webdriver_manager in c:\\users\\aeshna_gupta\\appdata\\roaming\\python\\python310\\site-packages (3.8.4)\n",
      "Requirement already satisfied: requests in c:\\users\\aeshna_gupta\\appdata\\roaming\\python\\python310\\site-packages (from webdriver_manager) (2.28.1)\n",
      "Requirement already satisfied: tqdm in c:\\users\\aeshna_gupta\\appdata\\roaming\\python\\python310\\site-packages (from webdriver_manager) (4.64.1)\n",
      "Requirement already satisfied: python-dotenv in c:\\users\\aeshna_gupta\\appdata\\roaming\\python\\python310\\site-packages (from webdriver_manager) (0.21.0)\n",
      "Requirement already satisfied: certifi>=2017.4.17 in c:\\users\\aeshna_gupta\\appdata\\roaming\\python\\python310\\site-packages (from requests->webdriver_manager) (2022.9.24)\n",
      "Requirement already satisfied: charset-normalizer<3,>=2 in c:\\users\\aeshna_gupta\\appdata\\roaming\\python\\python310\\site-packages (from requests->webdriver_manager) (2.1.1)\n",
      "Requirement already satisfied: idna<4,>=2.5 in c:\\users\\aeshna_gupta\\appdata\\roaming\\python\\python310\\site-packages (from requests->webdriver_manager) (3.4)\n",
      "Requirement already satisfied: urllib3<1.27,>=1.21.1 in c:\\users\\aeshna_gupta\\appdata\\roaming\\python\\python310\\site-packages (from requests->webdriver_manager) (1.26.12)\n",
      "Requirement already satisfied: colorama in c:\\users\\aeshna_gupta\\appdata\\roaming\\python\\python310\\site-packages (from tqdm->webdriver_manager) (0.4.5)\n"
     ]
    },
    {
     "name": "stderr",
     "output_type": "stream",
     "text": [
      "WARNING: You are using pip version 22.0.4; however, version 22.3 is available.\n",
      "You should consider upgrading via the 'C:\\Program Files\\Python310\\python.exe -m pip install --upgrade pip' command.\n"
     ]
    }
   ],
   "source": [
    "! pip install webdriver_manager"
   ]
  },
  {
   "cell_type": "code",
   "execution_count": 1,
   "metadata": {},
   "outputs": [],
   "source": [
    "from selenium import webdriver\n",
    "# import chromedriver_binary\n",
    "from webdriver_manager.chrome import ChromeDriverManager\n",
    "from bs4 import BeautifulSoup\n",
    "import csv"
   ]
  },
  {
   "cell_type": "markdown",
   "metadata": {},
   "source": [
    "#### Experimentation "
   ]
  },
  {
   "cell_type": "code",
   "execution_count": 9,
   "metadata": {},
   "outputs": [],
   "source": [
    "# driver = webdriver.Chrome()\n",
    "driver = webdriver.Chrome(ChromeDriverManager().install())"
   ]
  },
  {
   "cell_type": "code",
   "execution_count": 41,
   "metadata": {},
   "outputs": [],
   "source": [
    "# url= 'https://www.amazon.com/'"
   ]
  },
  {
   "cell_type": "code",
   "execution_count": 42,
   "metadata": {},
   "outputs": [],
   "source": [
    "# driver.get(url)"
   ]
  },
  {
   "cell_type": "code",
   "execution_count": 10,
   "metadata": {},
   "outputs": [],
   "source": [
    "def my_url(keyword):\n",
    "    temp= 'https://www.amazon.com/s?k={}&ref=nav_bb_sb'\n",
    "    keyword= keyword.replace(' ','+')\n",
    "    return temp.format(keyword)"
   ]
  },
  {
   "cell_type": "code",
   "execution_count": 11,
   "metadata": {},
   "outputs": [],
   "source": [
    "url= my_url('laptop charger')\n",
    "\n",
    "driver.get(url)"
   ]
  },
  {
   "cell_type": "code",
   "execution_count": 12,
   "metadata": {},
   "outputs": [],
   "source": [
    "\n",
    "soup = BeautifulSoup(driver.page_source,'html.parser')\n",
    "soup_results=soup.find_all('div',{'data-component-type':'s-search-result'})"
   ]
  },
  {
   "cell_type": "code",
   "execution_count": 13,
   "metadata": {},
   "outputs": [
    {
     "data": {
      "text/plain": [
       "22"
      ]
     },
     "execution_count": 13,
     "metadata": {},
     "output_type": "execute_result"
    }
   ],
   "source": [
    "len(soup_results)"
   ]
  },
  {
   "cell_type": "code",
   "execution_count": 14,
   "metadata": {},
   "outputs": [],
   "source": [
    "obj=soup_results[0]"
   ]
  },
  {
   "cell_type": "code",
   "execution_count": 19,
   "metadata": {},
   "outputs": [
    {
     "data": {
      "text/plain": [
       "'411'"
      ]
     },
     "execution_count": 19,
     "metadata": {},
     "output_type": "execute_result"
    }
   ],
   "source": [
    "# rate=obj.find('span','a-icon-alt').text\n",
    "# rate\n",
    "count_review = obj.find('span',{'class':'a-size-base s-underline-text'}).text\n",
    "count_review"
   ]
  },
  {
   "cell_type": "markdown",
   "metadata": {},
   "source": [
    "#### Generic function"
   ]
  },
  {
   "cell_type": "code",
   "execution_count": 20,
   "metadata": {},
   "outputs": [],
   "source": [
    "def my_url(keyword):\n",
    "    temp= 'https://www.amazon.com/s?k={}&ref=nav_bb_sb'\n",
    "    keyword= keyword.replace(' ','+')\n",
    "    url= temp.format(keyword)\n",
    "\n",
    "    url += '&page{}'   # multiple pages , will be changed in ref statement in link\n",
    "\n",
    "    return url\n",
    "\n",
    "\n",
    "def extract_records(obj):\n",
    "    atag= obj.h2.a\n",
    "    des= atag.text.strip()\n",
    "    url = 'https://amazon.com/'+ atag.get('href')\n",
    "    #it is possible that some items on amazom.com might not be having one of the items we are looking for(e.g. some items might not be having ratings or price), \n",
    "    # we will be getting error if we dont take care of that. We will therefore add some error handlers\n",
    "    #if there are no price,probably the item is out of stock or not available, \n",
    "    # then we will ignore the item, but if there are no reviews yet, \n",
    "    # it's fine, we will still want to extract the item.\n",
    "    try:\n",
    "       parent = obj.find('span','a-price')\n",
    "       price= parent.find('span','a-offscreen').text  # if the price is not there then through an exception but don't stop\n",
    "    except AttributeError:\n",
    "        return \n",
    "    \n",
    "    try:\n",
    "       rate= obj.find('span','a-icon-alt').text \n",
    "       count_review = obj.find('span',{'class':'a-size-base s-underline-text'}).text # obj.find('span',{'class':'a-size-base','dir':'auto'}).text\n",
    "       \n",
    "    except AttributeError:\n",
    "        rate = ''\n",
    "        count_review=''\n",
    "    image =obj.find('img',{'class':'s-image'}).get('src')\n",
    "\n",
    "    result= (des, price,rate, count_review,url,image)\n",
    "    return result\n",
    "\n",
    "def main(keyword):\n",
    "    driver = webdriver.Chrome(ChromeDriverManager().install())\n",
    "\n",
    "    records = []\n",
    "    url= my_url(keyword)\n",
    "    \n",
    "    for page in range(1,3):\n",
    "        driver.get(url.format(page))\n",
    "\n",
    "        soup= BeautifulSoup(driver.page_source,'html.parser')      \n",
    "        soup_result= soup.find_all('div',{'data-component-type': 's-search-result'})\n",
    "\n",
    "        for item in soup_result:\n",
    "            record = extract_records(item)\n",
    "            if record :\n",
    "                records.append(record)\n",
    "        with open('result.csv','w',newline='',encoding='utf-8') as f:\n",
    "            writer = csv.writer(f)\n",
    "            writer.writerow(['Description', 'Price','Rate', 'Review count','URL','Image']) \n",
    "            writer.writerows(records)"
   ]
  },
  {
   "cell_type": "code",
   "execution_count": 21,
   "metadata": {},
   "outputs": [],
   "source": [
    "main('pencil box')"
   ]
  },
  {
   "cell_type": "code",
   "execution_count": 4,
   "metadata": {},
   "outputs": [],
   "source": [
    "import pandas as pd"
   ]
  },
  {
   "cell_type": "code",
   "execution_count": 22,
   "metadata": {},
   "outputs": [
    {
     "data": {
      "text/html": [
       "<div>\n",
       "<style scoped>\n",
       "    .dataframe tbody tr th:only-of-type {\n",
       "        vertical-align: middle;\n",
       "    }\n",
       "\n",
       "    .dataframe tbody tr th {\n",
       "        vertical-align: top;\n",
       "    }\n",
       "\n",
       "    .dataframe thead th {\n",
       "        text-align: right;\n",
       "    }\n",
       "</style>\n",
       "<table border=\"1\" class=\"dataframe\">\n",
       "  <thead>\n",
       "    <tr style=\"text-align: right;\">\n",
       "      <th></th>\n",
       "      <th>Description</th>\n",
       "      <th>Price</th>\n",
       "      <th>Rate</th>\n",
       "      <th>Review count</th>\n",
       "      <th>URL</th>\n",
       "      <th>Image</th>\n",
       "    </tr>\n",
       "  </thead>\n",
       "  <tbody>\n",
       "    <tr>\n",
       "      <th>0</th>\n",
       "      <td>Rabbit Pencil Case for Girls, 3D Pen Pouch Sta...</td>\n",
       "      <td>$9.09</td>\n",
       "      <td>5.0 out of 5 stars</td>\n",
       "      <td>9</td>\n",
       "      <td>https://amazon.com//sspa/click?ie=UTF8&amp;spc=MTo...</td>\n",
       "      <td>https://m.media-amazon.com/images/I/71JBBtGAR8...</td>\n",
       "    </tr>\n",
       "    <tr>\n",
       "      <th>1</th>\n",
       "      <td>1 Pack Plastic Pencil Box Large Capacity Penci...</td>\n",
       "      <td>$5.99</td>\n",
       "      <td>4.4 out of 5 stars</td>\n",
       "      <td>179</td>\n",
       "      <td>https://amazon.com//sspa/click?ie=UTF8&amp;spc=MTo...</td>\n",
       "      <td>https://m.media-amazon.com/images/I/618cuS0cqV...</td>\n",
       "    </tr>\n",
       "    <tr>\n",
       "      <th>2</th>\n",
       "      <td>Mr. Pen- Pencil Box, Assorted Color, 2 Pack, P...</td>\n",
       "      <td>$5.99</td>\n",
       "      <td>4.2 out of 5 stars</td>\n",
       "      <td>14</td>\n",
       "      <td>https://amazon.com//sspa/click?ie=UTF8&amp;spc=MTo...</td>\n",
       "      <td>https://m.media-amazon.com/images/I/81rdG7t+XL...</td>\n",
       "    </tr>\n",
       "    <tr>\n",
       "      <th>3</th>\n",
       "      <td>YOKUMA Pencil Case,Large Capacity Pencil Pouch...</td>\n",
       "      <td>$8.99</td>\n",
       "      <td>4.6 out of 5 stars</td>\n",
       "      <td>249</td>\n",
       "      <td>https://amazon.com//sspa/click?ie=UTF8&amp;spc=MTo...</td>\n",
       "      <td>https://m.media-amazon.com/images/I/8173RezFVa...</td>\n",
       "    </tr>\n",
       "    <tr>\n",
       "      <th>4</th>\n",
       "      <td>Large Capacity Clear Pencil Box, Pencil Case f...</td>\n",
       "      <td>$4.99</td>\n",
       "      <td>4.7 out of 5 stars</td>\n",
       "      <td>60</td>\n",
       "      <td>https://amazon.com//Capacity-Pencil-Plastic-St...</td>\n",
       "      <td>https://m.media-amazon.com/images/I/51GjzKiDDf...</td>\n",
       "    </tr>\n",
       "    <tr>\n",
       "      <th>...</th>\n",
       "      <td>...</td>\n",
       "      <td>...</td>\n",
       "      <td>...</td>\n",
       "      <td>...</td>\n",
       "      <td>...</td>\n",
       "      <td>...</td>\n",
       "    </tr>\n",
       "    <tr>\n",
       "      <th>109</th>\n",
       "      <td>Hard Shell Molded Zippered Pencil/Storage Case...</td>\n",
       "      <td>$10.99</td>\n",
       "      <td>4.6 out of 5 stars</td>\n",
       "      <td>250</td>\n",
       "      <td>https://amazon.com//Molded-Zippered-Pencil-Sto...</td>\n",
       "      <td>https://m.media-amazon.com/images/I/71-iQ2ca9y...</td>\n",
       "    </tr>\n",
       "    <tr>\n",
       "      <th>110</th>\n",
       "      <td>1InTheoffice Pencil Box, Translucent Clear (6 ...</td>\n",
       "      <td>$17.99</td>\n",
       "      <td>4.4 out of 5 stars</td>\n",
       "      <td>237</td>\n",
       "      <td>https://amazon.com//1InTheoffice-Pencil-Transl...</td>\n",
       "      <td>https://m.media-amazon.com/images/I/61+0jfdZVn...</td>\n",
       "    </tr>\n",
       "    <tr>\n",
       "      <th>111</th>\n",
       "      <td>Pencil Box 3 Pack Small Color Multi Purpose Pe...</td>\n",
       "      <td>$9.99</td>\n",
       "      <td>4.6 out of 5 stars</td>\n",
       "      <td>274</td>\n",
       "      <td>https://amazon.com//Purpose-Supplies-Durable-P...</td>\n",
       "      <td>https://m.media-amazon.com/images/I/71RLorkjQ3...</td>\n",
       "    </tr>\n",
       "    <tr>\n",
       "      <th>112</th>\n",
       "      <td>Tribello Pencil Box for Kids, Universal School...</td>\n",
       "      <td>$9.99</td>\n",
       "      <td>4.7 out of 5 stars</td>\n",
       "      <td>212</td>\n",
       "      <td>https://amazon.com//Tribello-Pencil-Universal-...</td>\n",
       "      <td>https://m.media-amazon.com/images/I/61btpNNIxG...</td>\n",
       "    </tr>\n",
       "    <tr>\n",
       "      <th>113</th>\n",
       "      <td>YOKUMA Pencil Case,Large Capacity Pencil Pouch...</td>\n",
       "      <td>$8.99</td>\n",
       "      <td>4.6 out of 5 stars</td>\n",
       "      <td>249</td>\n",
       "      <td>https://amazon.com//YOKUMA-Capacity-Aesthetic-...</td>\n",
       "      <td>https://m.media-amazon.com/images/I/8173RezFVa...</td>\n",
       "    </tr>\n",
       "  </tbody>\n",
       "</table>\n",
       "<p>114 rows × 6 columns</p>\n",
       "</div>"
      ],
      "text/plain": [
       "                                           Description   Price  \\\n",
       "0    Rabbit Pencil Case for Girls, 3D Pen Pouch Sta...   $9.09   \n",
       "1    1 Pack Plastic Pencil Box Large Capacity Penci...   $5.99   \n",
       "2    Mr. Pen- Pencil Box, Assorted Color, 2 Pack, P...   $5.99   \n",
       "3    YOKUMA Pencil Case,Large Capacity Pencil Pouch...   $8.99   \n",
       "4    Large Capacity Clear Pencil Box, Pencil Case f...   $4.99   \n",
       "..                                                 ...     ...   \n",
       "109  Hard Shell Molded Zippered Pencil/Storage Case...  $10.99   \n",
       "110  1InTheoffice Pencil Box, Translucent Clear (6 ...  $17.99   \n",
       "111  Pencil Box 3 Pack Small Color Multi Purpose Pe...   $9.99   \n",
       "112  Tribello Pencil Box for Kids, Universal School...   $9.99   \n",
       "113  YOKUMA Pencil Case,Large Capacity Pencil Pouch...   $8.99   \n",
       "\n",
       "                   Rate Review count  \\\n",
       "0    5.0 out of 5 stars            9   \n",
       "1    4.4 out of 5 stars          179   \n",
       "2    4.2 out of 5 stars           14   \n",
       "3    4.6 out of 5 stars          249   \n",
       "4    4.7 out of 5 stars           60   \n",
       "..                  ...          ...   \n",
       "109  4.6 out of 5 stars          250   \n",
       "110  4.4 out of 5 stars          237   \n",
       "111  4.6 out of 5 stars          274   \n",
       "112  4.7 out of 5 stars          212   \n",
       "113  4.6 out of 5 stars          249   \n",
       "\n",
       "                                                   URL  \\\n",
       "0    https://amazon.com//sspa/click?ie=UTF8&spc=MTo...   \n",
       "1    https://amazon.com//sspa/click?ie=UTF8&spc=MTo...   \n",
       "2    https://amazon.com//sspa/click?ie=UTF8&spc=MTo...   \n",
       "3    https://amazon.com//sspa/click?ie=UTF8&spc=MTo...   \n",
       "4    https://amazon.com//Capacity-Pencil-Plastic-St...   \n",
       "..                                                 ...   \n",
       "109  https://amazon.com//Molded-Zippered-Pencil-Sto...   \n",
       "110  https://amazon.com//1InTheoffice-Pencil-Transl...   \n",
       "111  https://amazon.com//Purpose-Supplies-Durable-P...   \n",
       "112  https://amazon.com//Tribello-Pencil-Universal-...   \n",
       "113  https://amazon.com//YOKUMA-Capacity-Aesthetic-...   \n",
       "\n",
       "                                                 Image  \n",
       "0    https://m.media-amazon.com/images/I/71JBBtGAR8...  \n",
       "1    https://m.media-amazon.com/images/I/618cuS0cqV...  \n",
       "2    https://m.media-amazon.com/images/I/81rdG7t+XL...  \n",
       "3    https://m.media-amazon.com/images/I/8173RezFVa...  \n",
       "4    https://m.media-amazon.com/images/I/51GjzKiDDf...  \n",
       "..                                                 ...  \n",
       "109  https://m.media-amazon.com/images/I/71-iQ2ca9y...  \n",
       "110  https://m.media-amazon.com/images/I/61+0jfdZVn...  \n",
       "111  https://m.media-amazon.com/images/I/71RLorkjQ3...  \n",
       "112  https://m.media-amazon.com/images/I/61btpNNIxG...  \n",
       "113  https://m.media-amazon.com/images/I/8173RezFVa...  \n",
       "\n",
       "[114 rows x 6 columns]"
      ]
     },
     "execution_count": 22,
     "metadata": {},
     "output_type": "execute_result"
    }
   ],
   "source": [
    "df=pd.read_csv(r'C:\\Users\\aeshna_gupta\\OneDrive - Dell Technologies\\DGA\\Udemy courses\\Web scrapping\\result.csv')\n",
    "df"
   ]
  },
  {
   "cell_type": "code",
   "execution_count": null,
   "metadata": {},
   "outputs": [],
   "source": []
  }
 ],
 "metadata": {
  "kernelspec": {
   "display_name": "Python 3.10.5 64-bit",
   "language": "python",
   "name": "python3"
  },
  "language_info": {
   "codemirror_mode": {
    "name": "ipython",
    "version": 3
   },
   "file_extension": ".py",
   "mimetype": "text/x-python",
   "name": "python",
   "nbconvert_exporter": "python",
   "pygments_lexer": "ipython3",
   "version": "3.10.5"
  },
  "orig_nbformat": 4,
  "vscode": {
   "interpreter": {
    "hash": "26de051ba29f2982a8de78e945f0abaf191376122a1563185a90213a26c5da77"
   }
  }
 },
 "nbformat": 4,
 "nbformat_minor": 2
}
